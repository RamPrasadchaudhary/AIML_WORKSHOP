{
  "cells": [
    {
      "cell_type": "markdown",
      "metadata": {
        "id": "q3yyd3DF9sNV"
      },
      "source": [
        "#1.Import numpy library."
      ]
    },
    {
      "cell_type": "code",
      "execution_count": null,
      "metadata": {
        "id": "1lhzB8PXa195"
      },
      "outputs": [],
      "source": [
        "import  numpy as np"
      ]
    },
    {
      "cell_type": "markdown",
      "metadata": {
        "id": "aUHUEocqbSmt"
      },
      "source": [
        "#2.Create 1D array with 5 elements."
      ]
    },
    {
      "cell_type": "markdown",
      "metadata": {},
      "source": []
    },
    {
      "cell_type": "code",
      "execution_count": null,
      "metadata": {
        "colab": {
          "base_uri": "https://localhost:8080/"
        },
        "id": "9Xowj0bZJqKC",
        "outputId": "e872ec2d-613e-4f90-bf75-22d69b9a4eee"
      },
      "outputs": [
        {
          "name": "stdout",
          "output_type": "stream",
          "text": [
            "[1 3 4 5 6]\n"
          ]
        }
      ],
      "source": [
        "oneD=np.array([1,3,4,5,6])\n",
        "print(oneD)"
      ]
    },
    {
      "cell_type": "markdown",
      "metadata": {
        "id": "zuhW1Xcz94n3"
      },
      "source": [
        "#3.Create 1D array with 5 elements random value. (by default values between 0 to 1)"
      ]
    },
    {
      "cell_type": "code",
      "execution_count": null,
      "metadata": {
        "colab": {
          "base_uri": "https://localhost:8080/"
        },
        "id": "IeiO-K-097K2",
        "outputId": "a9b3bacd-d9c1-49cd-b915-1300c65b7502"
      },
      "outputs": [
        {
          "name": "stdout",
          "output_type": "stream",
          "text": [
            "[0.15328851 0.15303961 0.70950541 0.82337824 0.2772061 ]\n"
          ]
        }
      ],
      "source": [
        "random=np.random.rand(5)\n",
        "print(random)"
      ]
    },
    {
      "cell_type": "markdown",
      "metadata": {
        "id": "WzPIJAza-Fps"
      },
      "source": [
        "# 4.Generate random value from range 5 to 15 with 1D array size 10."
      ]
    },
    {
      "cell_type": "code",
      "execution_count": 55,
      "metadata": {
        "colab": {
          "base_uri": "https://localhost:8080/"
        },
        "id": "PmFvoBWt-uch",
        "outputId": "737c793d-6760-460b-8af3-b5b48db2bca0"
      },
      "outputs": [
        {
          "name": "stdout",
          "output_type": "stream",
          "text": [
            "[14  8 14 14  5 12 14  7  5 14]\n"
          ]
        }
      ],
      "source": [
        "arr=np.array(np.random.randint(5,15,10))\n",
        "print(arr)"
      ]
    },
    {
      "cell_type": "markdown",
      "metadata": {
        "id": "R6lf2HD2_WZk"
      },
      "source": [
        "#5.Create 2D array - 4 by 3 size."
      ]
    },
    {
      "cell_type": "code",
      "execution_count": null,
      "metadata": {
        "colab": {
          "base_uri": "https://localhost:8080/"
        },
        "id": "P3oAZuHv_YhE",
        "outputId": "131d1624-21b8-4eab-abe2-494cdb0124a1"
      },
      "outputs": [
        {
          "data": {
            "text/plain": [
              "array([[0.74967984, 0.4899753 , 0.43301897],\n",
              "       [0.16208499, 0.35012697, 0.17950222],\n",
              "       [0.03297875, 0.43634302, 0.19720058],\n",
              "       [0.80828843, 0.82785982, 0.04186385]])"
            ]
          },
          "execution_count": 11,
          "metadata": {},
          "output_type": "execute_result"
        }
      ],
      "source": [
        "# prompt: Create 2D array - 4 by 3 size.\n",
        "\n",
        "twoD=np.random.rand(4,3)\n",
        "twoD\n"
      ]
    },
    {
      "cell_type": "markdown",
      "metadata": {
        "id": "nL3YlvUJ_sT6"
      },
      "source": [
        "#5.Create 2D array with size 3 by 3. Elements values are random number(by default values between 0 to 1)"
      ]
    },
    {
      "cell_type": "code",
      "execution_count": null,
      "metadata": {
        "colab": {
          "base_uri": "https://localhost:8080/"
        },
        "id": "zWI9E1t4_xI2",
        "outputId": "ad36c460-210f-4359-ff34-9880f19fad3b"
      },
      "outputs": [
        {
          "name": "stdout",
          "output_type": "stream",
          "text": [
            "[[0.57064062 0.05473609 0.26195823]\n",
            " [0.79451335 0.27928439 0.09793998]]\n"
          ]
        }
      ],
      "source": [
        "import numpy as np\n",
        "random=np.random.rand(2 ,3)\n",
        "print(random)"
      ]
    },
    {
      "cell_type": "markdown",
      "metadata": {
        "id": "le-LtM6PFBPy"
      },
      "source": [
        "#.7Generate random value from range 5 to 15 with 2D array size 3 by 3."
      ]
    },
    {
      "cell_type": "code",
      "execution_count": null,
      "metadata": {
        "colab": {
          "base_uri": "https://localhost:8080/"
        },
        "id": "VbENK_ooFFkC",
        "outputId": "6b79399d-ecac-4233-8945-27d6dcbdd1f0"
      },
      "outputs": [
        {
          "data": {
            "text/plain": [
              "array([[ 5,  5, 11],\n",
              "       [11, 14,  7],\n",
              "       [ 8, 14,  7]])"
            ]
          },
          "execution_count": 17,
          "metadata": {},
          "output_type": "execute_result"
        }
      ],
      "source": [
        "\n",
        "arr = np.random.randint(5,15, size=(3,3))\n",
        "arr"
      ]
    },
    {
      "cell_type": "markdown",
      "metadata": {
        "id": "hkNSup2PFNam"
      },
      "source": [
        "#8.Create 3D array with size 2 * 3 * 2."
      ]
    },
    {
      "cell_type": "code",
      "execution_count": 39,
      "metadata": {
        "colab": {
          "base_uri": "https://localhost:8080/"
        },
        "id": "o-iJ-napFQgl",
        "outputId": "8f714785-c9c2-4062-ec36-5ab883e8abf5"
      },
      "outputs": [
        {
          "data": {
            "text/plain": [
              "array([[[0.10984562, 0.66467624],\n",
              "        [0.08218732, 0.88930998],\n",
              "        [0.08532088, 0.24860373]],\n",
              "\n",
              "       [[0.38210262, 0.00778725],\n",
              "        [0.54544278, 0.92160355],\n",
              "        [0.76042393, 0.07844371]]])"
            ]
          },
          "execution_count": 39,
          "metadata": {},
          "output_type": "execute_result"
        }
      ],
      "source": [
        "arr=np.random.rand(2,3,2)\n",
        "arr"
      ]
    },
    {
      "cell_type": "markdown",
      "metadata": {
        "id": "s_oNXk8jKC3L"
      },
      "source": [
        "#9.Initialize 5 by 5 array with all values are zeros.\n"
      ]
    },
    {
      "cell_type": "code",
      "execution_count": 40,
      "metadata": {
        "colab": {
          "base_uri": "https://localhost:8080/"
        },
        "id": "Vl_mk_H5KGsh",
        "outputId": "a64b6b08-75b2-40c6-a920-f62624e20e80"
      },
      "outputs": [
        {
          "data": {
            "text/plain": [
              "array([[0., 0., 0., 0., 0.],\n",
              "       [0., 0., 0., 0., 0.],\n",
              "       [0., 0., 0., 0., 0.],\n",
              "       [0., 0., 0., 0., 0.],\n",
              "       [0., 0., 0., 0., 0.]])"
            ]
          },
          "execution_count": 40,
          "metadata": {},
          "output_type": "execute_result"
        }
      ],
      "source": [
        "arr=np.zeros((5,5))\n",
        "arr"
      ]
    },
    {
      "cell_type": "markdown",
      "metadata": {
        "id": "ZFGYC5qNKL68"
      },
      "source": [
        "#10.Initialize 5 by 5 array with all values are ones."
      ]
    },
    {
      "cell_type": "code",
      "execution_count": 41,
      "metadata": {
        "colab": {
          "base_uri": "https://localhost:8080/"
        },
        "id": "BaBSunjlKNe6",
        "outputId": "a5899aa3-dca5-4d2c-b8f9-f6d2ffee7e9e"
      },
      "outputs": [
        {
          "data": {
            "text/plain": [
              "array([[1., 1., 1., 1., 1.],\n",
              "       [1., 1., 1., 1., 1.],\n",
              "       [1., 1., 1., 1., 1.],\n",
              "       [1., 1., 1., 1., 1.],\n",
              "       [1., 1., 1., 1., 1.]])"
            ]
          },
          "execution_count": 41,
          "metadata": {},
          "output_type": "execute_result"
        }
      ],
      "source": [
        "arr=np.ones((5,5))\n",
        "arr"
      ]
    },
    {
      "cell_type": "markdown",
      "metadata": {
        "id": "j9nIqKA6KR0f"
      },
      "source": [
        "#11.Initialize 5 by 5 array with all values are particular values(consider 4)."
      ]
    },
    {
      "cell_type": "code",
      "execution_count": 42,
      "metadata": {
        "colab": {
          "base_uri": "https://localhost:8080/"
        },
        "id": "PvT_thP8KUU-",
        "outputId": "6bfe9882-bf55-42ff-e8d0-5fc0ef32f5a8"
      },
      "outputs": [
        {
          "data": {
            "text/plain": [
              "array([[4, 4, 4, 4, 4],\n",
              "       [4, 4, 4, 4, 4],\n",
              "       [4, 4, 4, 4, 4],\n",
              "       [4, 4, 4, 4, 4],\n",
              "       [4, 4, 4, 4, 4]])"
            ]
          },
          "execution_count": 42,
          "metadata": {},
          "output_type": "execute_result"
        }
      ],
      "source": [
        "arr=np.full((5,5),4)\n",
        "arr"
      ]
    },
    {
      "cell_type": "markdown",
      "metadata": {
        "id": "cRLyDEw-KZFb"
      },
      "source": [
        "#12.Create indentity matrix with all diagonal values are 1 and rest all values are zeros."
      ]
    },
    {
      "cell_type": "code",
      "execution_count": 44,
      "metadata": {
        "colab": {
          "base_uri": "https://localhost:8080/"
        },
        "id": "PrAavVuOKbE_",
        "outputId": "554a1786-0bdf-4f10-a966-ac5483e27161"
      },
      "outputs": [
        {
          "data": {
            "text/plain": [
              "array([[1., 0., 0., 0., 0.],\n",
              "       [0., 1., 0., 0., 0.],\n",
              "       [0., 0., 1., 0., 0.],\n",
              "       [0., 0., 0., 1., 0.],\n",
              "       [0., 0., 0., 0., 1.]])"
            ]
          },
          "execution_count": 44,
          "metadata": {},
          "output_type": "execute_result"
        }
      ],
      "source": [
        "arr = np.eye(5)\n",
        "arr"
      ]
    },
    {
      "cell_type": "markdown",
      "metadata": {
        "id": "yXTAlpF1Kqjp"
      },
      "source": [
        "#13.Find out shape of array."
      ]
    },
    {
      "cell_type": "code",
      "execution_count": 46,
      "metadata": {
        "colab": {
          "base_uri": "https://localhost:8080/"
        },
        "id": "I0Y_hb18KtNe",
        "outputId": "d665eb7b-d948-4561-ad02-4640315ae70a"
      },
      "outputs": [
        {
          "name": "stdout",
          "output_type": "stream",
          "text": [
            "(5, 5)\n"
          ]
        }
      ],
      "source": [
        "print(arr.shape)"
      ]
    },
    {
      "cell_type": "markdown",
      "metadata": {
        "id": "BUH7Yx_kK4Z3"
      },
      "source": [
        "#14.Find dimension of array."
      ]
    },
    {
      "cell_type": "code",
      "execution_count": 47,
      "metadata": {
        "colab": {
          "base_uri": "https://localhost:8080/"
        },
        "id": "QxKSPx7hK62r",
        "outputId": "7e21ea75-d341-4fc6-908a-9be7186ae984"
      },
      "outputs": [
        {
          "name": "stdout",
          "output_type": "stream",
          "text": [
            "2\n"
          ]
        }
      ],
      "source": [
        "print(arr.ndim)"
      ]
    },
    {
      "cell_type": "markdown",
      "metadata": {
        "id": "GfdfDsL9LLWY"
      },
      "source": [
        "#15.Find no. of elements of from above any array."
      ]
    },
    {
      "cell_type": "code",
      "execution_count": 48,
      "metadata": {
        "colab": {
          "base_uri": "https://localhost:8080/"
        },
        "id": "OAWC9a4aLOTh",
        "outputId": "3a06af21-3698-4508-d563-24c03707f63d"
      },
      "outputs": [
        {
          "name": "stdout",
          "output_type": "stream",
          "text": [
            "25\n"
          ]
        }
      ],
      "source": [
        "print(arr.size)"
      ]
    },
    {
      "cell_type": "markdown",
      "metadata": {
        "id": "7ghTC6VsMJoy"
      },
      "source": [
        "#16.Find type of array."
      ]
    },
    {
      "cell_type": "code",
      "execution_count": 50,
      "metadata": {
        "colab": {
          "base_uri": "https://localhost:8080/"
        },
        "id": "T3skzSjBMUrj",
        "outputId": "929ab4d6-09b5-4a32-a730-12ccd7700b3b"
      },
      "outputs": [
        {
          "name": "stdout",
          "output_type": "stream",
          "text": [
            "<class 'numpy.dtype'>\n"
          ]
        }
      ],
      "source": [
        "print(np.dtype)"
      ]
    },
    {
      "cell_type": "markdown",
      "metadata": {
        "id": "BeRL_43ZMZ7x"
      },
      "source": [
        "#17.Find maximum value from array."
      ]
    },
    {
      "cell_type": "code",
      "execution_count": 66,
      "metadata": {
        "colab": {
          "base_uri": "https://localhost:8080/"
        },
        "id": "5sD4DVjwMdTs",
        "outputId": "0b5959a6-fd26-450c-d0bc-f71f24c217f5"
      },
      "outputs": [
        {
          "name": "stdout",
          "output_type": "stream",
          "text": [
            "[[20 14 28]\n",
            " [40 20 37]\n",
            " [40  4 31]]\n",
            "40\n"
          ]
        }
      ],
      "source": [
        "arr=np.random.randint(4,45 ,size=(3,3))\n",
        "print(arr)\n",
        "print(arr.max())"
      ]
    },
    {
      "cell_type": "markdown",
      "metadata": {
        "id": "AgKJMbPLOnCA"
      },
      "source": [
        "#18.Find minimum value from array."
      ]
    },
    {
      "cell_type": "code",
      "execution_count": 67,
      "metadata": {
        "colab": {
          "base_uri": "https://localhost:8080/"
        },
        "id": "WdYLRbY3OpK-",
        "outputId": "c654442d-2795-495f-c2be-a9a48d0cc931"
      },
      "outputs": [
        {
          "name": "stdout",
          "output_type": "stream",
          "text": [
            "4\n"
          ]
        }
      ],
      "source": [
        "print(arr.min())"
      ]
    },
    {
      "cell_type": "markdown",
      "metadata": {
        "id": "D08xBQ6GOtz6"
      },
      "source": [
        "#19.Find average (mean) values from array."
      ]
    },
    {
      "cell_type": "code",
      "execution_count": 70,
      "metadata": {
        "colab": {
          "base_uri": "https://localhost:8080/"
        },
        "id": "OEkQYoD1O1Rf",
        "outputId": "0862ec97-445e-4f99-80e6-7f7ec5fd9772"
      },
      "outputs": [
        {
          "name": "stdout",
          "output_type": "stream",
          "text": [
            "26.0\n",
            "26.0\n",
            "22.88888888888889\n"
          ]
        }
      ],
      "source": [
        "print(np.mean(arr))\n",
        "print(arr.mean())\n",
        "print(np.random.randint(12,34,size=(3,3)).mean())"
      ]
    },
    {
      "cell_type": "markdown",
      "metadata": {
        "id": "j91uMJAUPMOQ"
      },
      "source": [
        "#20.Find location of maximum value from array."
      ]
    },
    {
      "cell_type": "code",
      "execution_count": 72,
      "metadata": {
        "colab": {
          "base_uri": "https://localhost:8080/"
        },
        "id": "WPsSTcf5PRRP",
        "outputId": "2bb44860-9ea5-4130-bf2b-223d1f2b2c7a"
      },
      "outputs": [
        {
          "name": "stdout",
          "output_type": "stream",
          "text": [
            "3\n",
            "(1, 0)\n"
          ]
        }
      ],
      "source": [
        "print(arr.argmax())\n",
        "print(np.unravel_index(np.argmax(arr), arr.shape))"
      ]
    },
    {
      "cell_type": "markdown",
      "metadata": {
        "id": "4RH-L0BVPpZT"
      },
      "source": [
        "#21.Create two 2D array of size 3 by 3 and perform four basic mathematical operations."
      ]
    },
    {
      "cell_type": "code",
      "execution_count": 74,
      "metadata": {
        "colab": {
          "base_uri": "https://localhost:8080/"
        },
        "id": "kex38_a8PtQK",
        "outputId": "35d60325-112f-4b03-a7c8-43317b028d35"
      },
      "outputs": [
        {
          "name": "stdout",
          "output_type": "stream",
          "text": [
            "[[6 8 3]\n",
            " [8 2 5]\n",
            " [2 4 3]] \n",
            " [[6 4 2]\n",
            " [6 3 2]\n",
            " [2 6 1]]\n",
            "Addition:\n",
            " [[12 12  5]\n",
            " [14  5  7]\n",
            " [ 4 10  4]]\n",
            "Subtraction:\n",
            " [[ 0  4  1]\n",
            " [ 2 -1  3]\n",
            " [ 0 -2  2]]\n",
            "Element-wise Multiplication:\n",
            " [[36 32  6]\n",
            " [48  6 10]\n",
            " [ 4 24  3]]\n",
            "Element-wise Division:\n",
            " [[1.         2.         1.5       ]\n",
            " [1.33333333 0.66666667 2.5       ]\n",
            " [1.         0.66666667 3.        ]]\n"
          ]
        }
      ],
      "source": [
        "import numpy as np\n",
        "\n",
        "# Create two 3x3 arrays\n",
        "array1 = np.random.randint(1, 10, size=(3, 3))\n",
        "array2 = np.random.randint(1, 10, size=(3, 3))\n",
        "print(array1,\"\\n\", array2)\n",
        "# Addition\n",
        "addition_result = array1 + array2\n",
        "print(\"Addition:\\n\", addition_result)\n",
        "\n",
        "# Subtraction\n",
        "subtraction_result = array1 - array2\n",
        "print(\"Subtraction:\\n\", subtraction_result)\n",
        "\n",
        "# Multiplication (element-wise)\n",
        "multiplication_result = array1 * array2\n",
        "print(\"Element-wise Multiplication:\\n\", multiplication_result)\n",
        "\n",
        "# Division (element-wise)\n",
        "division_result = array1 / array2\n",
        "print(\"Element-wise Division:\\n\", division_result)"
      ]
    },
    {
      "cell_type": "markdown",
      "metadata": {
        "id": "i5TGrWvTR2LP"
      },
      "source": [
        "#22.Print index 2 and -2 value for 1D array. (indexing)."
      ]
    },
    {
      "cell_type": "code",
      "execution_count": 75,
      "metadata": {
        "colab": {
          "base_uri": "https://localhost:8080/"
        },
        "id": "VH-Bo-FAR6Hj",
        "outputId": "395ecf3c-b44c-4e1b-e1db-6749a61fcb04"
      },
      "outputs": [
        {
          "name": "stdout",
          "output_type": "stream",
          "text": [
            "4\n"
          ]
        },
        {
          "data": {
            "text/plain": [
              "5"
            ]
          },
          "execution_count": 75,
          "metadata": {},
          "output_type": "execute_result"
        }
      ],
      "source": [
        "\n",
        "print(oneD[2])\n",
        "oneD[-2]"
      ]
    },
    {
      "cell_type": "markdown",
      "metadata": {
        "id": "OGnFQGBHSQbh"
      },
      "source": [
        "#23.Perform indexing operations with 2D array."
      ]
    },
    {
      "cell_type": "code",
      "execution_count": 76,
      "metadata": {
        "colab": {
          "base_uri": "https://localhost:8080/"
        },
        "id": "Uu0ersePSSR8",
        "outputId": "a9573cb5-a6eb-485b-b21e-347ccde017ad"
      },
      "outputs": [
        {
          "name": "stdout",
          "output_type": "stream",
          "text": [
            "[[9 8 5]\n",
            " [4 5 7]\n",
            " [2 2 9]]\n",
            "8\n",
            "9\n",
            "[[9 8 5]\n",
            " [4 5 7]]\n",
            "[[8 5]\n",
            " [5 7]\n",
            " [2 9]]\n",
            "[[4 5]\n",
            " [2 2]]\n",
            "2\n"
          ]
        }
      ],
      "source": [
        "# prompt: Perform indexing operations with 2D array.\n",
        "\n",
        "import numpy as np\n",
        "\n",
        "# Assuming 'arr' is your 2D array (replace with your actual array)\n",
        "arr = np.random.randint(1, 10, size=(3,3)) # Example 3x3 array\n",
        "print(arr)\n",
        "\n",
        "# Accessing elements using row and column indices:\n",
        "\n",
        "# Element at row 0, column 1\n",
        "print(arr[0, 1])\n",
        "\n",
        "# Element at row 2, column 2\n",
        "print(arr[2, 2])\n",
        "\n",
        "# Slicing rows:\n",
        "# Get the first two rows\n",
        "print(arr[:2])\n",
        "\n",
        "\n",
        "# Slicing columns:\n",
        "# Get the last two columns\n",
        "print(arr[:, 1:])\n",
        "\n",
        "# Slicing a sub-matrix\n",
        "# Elements from rows 1-2 and columns 0-1\n",
        "print(arr[1:3, :2])\n",
        "\n",
        "# Negative Indexing:\n",
        "# Element in the last row, second to last column\n",
        "print(arr[-1, -2])"
      ]
    },
    {
      "cell_type": "markdown",
      "metadata": {
        "id": "seKPjG1BSqzj"
      },
      "source": [
        "#24.Print value of index 2 to 5 (slicing)"
      ]
    },
    {
      "cell_type": "code",
      "execution_count": 79,
      "metadata": {
        "colab": {
          "base_uri": "https://localhost:8080/"
        },
        "id": "vU-QKdDsTC6C",
        "outputId": "81939294-3fad-44bd-cb97-63e358002be2"
      },
      "outputs": [
        {
          "name": "stdout",
          "output_type": "stream",
          "text": [
            "[4 5 6]\n"
          ]
        }
      ],
      "source": [
        "print(oneD[2:5])"
      ]
    },
    {
      "cell_type": "markdown",
      "metadata": {
        "id": "JQBtj_6GTQGU"
      },
      "source": [
        "#25.Print from index 0 to 5 values"
      ]
    },
    {
      "cell_type": "code",
      "execution_count": 83,
      "metadata": {
        "colab": {
          "base_uri": "https://localhost:8080/"
        },
        "id": "3odcIxTnTUSk",
        "outputId": "8ef7c516-c6c3-427e-ea2d-10178d760802"
      },
      "outputs": [
        {
          "name": "stdout",
          "output_type": "stream",
          "text": [
            "[5 8 5 1 5 6]\n"
          ]
        }
      ],
      "source": [
        "arr=np.array(np.random.randint(1,10 ,13))\n",
        "arr\n",
        "print(arr[0:6])"
      ]
    },
    {
      "cell_type": "markdown",
      "metadata": {
        "id": "7TZOGM51Ty1I"
      },
      "source": [
        "#26.Print from index 5 to all"
      ]
    },
    {
      "cell_type": "code",
      "execution_count": 85,
      "metadata": {
        "colab": {
          "base_uri": "https://localhost:8080/"
        },
        "id": "aupFKQOlT3IV",
        "outputId": "416c704a-8fc2-433b-a638-0092859a3f22"
      },
      "outputs": [
        {
          "name": "stdout",
          "output_type": "stream",
          "text": [
            "[6 7 3 5 1 7 4 6]\n"
          ]
        }
      ],
      "source": [
        "print(arr[5:])"
      ]
    },
    {
      "cell_type": "markdown",
      "metadata": {
        "id": "Lb1a-6dKT-15"
      },
      "source": [
        "#27.Reassign value for particular index."
      ]
    },
    {
      "cell_type": "code",
      "execution_count": 87,
      "metadata": {
        "colab": {
          "base_uri": "https://localhost:8080/"
        },
        "id": "v2Yc-ZTWUBHW",
        "outputId": "431c5d0b-0182-48b0-e4d8-b554b671f2e4"
      },
      "outputs": [
        {
          "name": "stdout",
          "output_type": "stream",
          "text": [
            "[  1   5   6 678   3   5]\n"
          ]
        }
      ],
      "source": [
        "arr[6]=678\n",
        "print(arr[3:9])"
      ]
    },
    {
      "cell_type": "markdown",
      "metadata": {
        "id": "Mj3wkmvYUNzx"
      },
      "source": [
        "#28: Reassign value 100 to all elements."
      ]
    },
    {
      "cell_type": "code",
      "execution_count": 89,
      "metadata": {
        "colab": {
          "base_uri": "https://localhost:8080/"
        },
        "id": "38tyfpqUUdot",
        "outputId": "0c79f5ce-9345-4bfa-9441-d51e07a9aeeb"
      },
      "outputs": [
        {
          "name": "stdout",
          "output_type": "stream",
          "text": [
            "[100 100 100 100 100 100 100 100 100 100 100 100 100]\n"
          ]
        }
      ],
      "source": [
        "arr[:]\n",
        "print(arr)"
      ]
    },
    {
      "cell_type": "markdown",
      "metadata": {
        "id": "MjZknsbAUinP"
      },
      "source": [
        "#29.Extract elements from index 1 to 7 with a step of 2."
      ]
    },
    {
      "cell_type": "code",
      "execution_count": 91,
      "metadata": {
        "colab": {
          "base_uri": "https://localhost:8080/"
        },
        "id": "-r3BRXZcUlzK",
        "outputId": "4f3414b7-d2ed-4bf0-a4a7-5cbce5ac8047"
      },
      "outputs": [
        {
          "name": "stdout",
          "output_type": "stream",
          "text": [
            "[24 20 23 44]\n"
          ]
        }
      ],
      "source": [
        "arr=np.array(np.random.randint(12, 45,12))\n",
        "print(arr[1:8:2])"
      ]
    },
    {
      "cell_type": "markdown",
      "metadata": {
        "id": "UyjKJHiJU3-I"
      },
      "source": [
        "#30.Print Reverse the array."
      ]
    },
    {
      "cell_type": "code",
      "execution_count": 94,
      "metadata": {
        "colab": {
          "base_uri": "https://localhost:8080/"
        },
        "id": "z9TnaTQDU7Mw",
        "outputId": "aca4cc93-3c26-469c-f700-dec7c85d6cf5"
      },
      "outputs": [
        {
          "name": "stdout",
          "output_type": "stream",
          "text": [
            "[32 37 29 12 44 28 23 35 20 44 24 24]\n"
          ]
        }
      ],
      "source": [
        "print(arr[::-1])"
      ]
    }
  ],
  "metadata": {
    "colab": {
      "provenance": []
    },
    "kernelspec": {
      "display_name": "Python 3",
      "name": "python3"
    },
    "language_info": {
      "name": "python"
    }
  },
  "nbformat": 4,
  "nbformat_minor": 0
}
